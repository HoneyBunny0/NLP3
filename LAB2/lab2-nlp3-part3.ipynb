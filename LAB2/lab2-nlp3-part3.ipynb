{
  "nbformat": 4,
  "nbformat_minor": 0,
  "metadata": {
    "colab": {
      "provenance": []
    },
    "kernelspec": {
      "name": "python3",
      "display_name": "Python 3"
    },
    "language_info": {
      "name": "python"
    }
  },
  "cells": [
    {
      "cell_type": "code",
      "execution_count": 65,
      "metadata": {
        "id": "nZZrkXuyRSAQ"
      },
      "outputs": [],
      "source": [
        "from nltk.util import ngrams\n",
        "from collections import Counter\n",
        "import math\n",
        "\n",
        "def bleu(candidate, references, n, weights):\n",
        "    \"\"\"\n",
        "    Calculates the BLEU score for a candidate translation and a list of reference translations\n",
        "    candidate : string : the candidate translation\n",
        "    references : list of strings : the reference translations\n",
        "    n : int : the maximum n-gram length to use in the calculation\n",
        "    weights: list of float: the weight distribution for different n-grams\n",
        "    \"\"\"\n",
        "    precisions = []\n",
        "    for i in range(1, n+1):\n",
        "        candidate_ngrams = Counter(ngrams(candidate, i))\n",
        "        reference_ngrams = [Counter(ngrams(ref, i)) for ref in references]\n",
        "        overlap_counts = [min(candidate_ngrams[candidate_n_gram], ref[candidate_n_gram]) for ref in reference_ngrams for candidate_n_gram in candidate_ngrams]\n",
        "        precisions.append(sum(overlap_counts)/len(candidate))\n",
        "    precisions = [min(1, p) for p in precisions]\n",
        "    # Brevity Penalty\n",
        "    reference_length = min(len(ref) for ref in references)\n",
        "    candidate_length = len(candidate)\n",
        "    if candidate_length > reference_length:\n",
        "        bp = 1\n",
        "    else:\n",
        "        bp = math.exp(1 - reference_length / candidate_length)\n",
        "    print(\"PO =\",precisions[0])\n",
        "    print(\"P1 =\",precisions[1])\n",
        "    print(\"len(c) =\",candidate_length)\n",
        "    print(\"len(r) =\", reference_length)\n",
        "    print(\"BP =\", bp)\n",
        "    return bp * math.exp(sum(w*math.log(p) for w, p in zip(weights, precisions))/sum(weights))"
      ]
    },
    {
      "cell_type": "code",
      "source": [
        "candidate1 = \" the love can always do\"\n",
        "candidate2 = \" love can make anything possible\"\n",
        "references = [ \"love can always find a way\"  ] #, \"love makes anything possible\"\n",
        "weights = [0.5, 0.5, 0, 0]\n",
        "n = 4\n",
        "score1 = bleu(candidate1, references, n, weights)\n",
        "print(score1)\n",
        "print(\"----------------------\")\n",
        "score2 = bleu(candidate2, references, n, weights)\n",
        "print(score2)"
      ],
      "metadata": {
        "colab": {
          "base_uri": "https://localhost:8080/"
        },
        "id": "EBu0LfyOWGxf",
        "outputId": "475c7501-722f-4e63-de7a-20f893e55d3f"
      },
      "execution_count": 68,
      "outputs": [
        {
          "output_type": "stream",
          "name": "stdout",
          "text": [
            "PO = 0.8260869565217391\n",
            "P1 = 0.6521739130434783\n",
            "len(c) = 23\n",
            "len(r) = 26\n",
            "BP = 0.8777137332821824\n",
            "0.6442397056412241\n",
            "----------------------\n",
            "PO = 0.59375\n",
            "P1 = 0.3125\n",
            "len(c) = 32\n",
            "len(r) = 26\n",
            "BP = 1\n",
            "0.4307515235028194\n"
          ]
        }
      ]
    },
    {
      "cell_type": "code",
      "source": [],
      "metadata": {
        "id": "hXBiKBgId1Nq"
      },
      "execution_count": 46,
      "outputs": []
    }
  ]
}